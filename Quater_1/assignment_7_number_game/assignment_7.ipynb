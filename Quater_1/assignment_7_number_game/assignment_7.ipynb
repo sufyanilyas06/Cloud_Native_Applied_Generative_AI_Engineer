{
 "cells": [
  {
   "cell_type": "code",
   "execution_count": 28,
   "metadata": {},
   "outputs": [
    {
     "name": "stdout",
     "output_type": "stream",
     "text": [
      "Hello, Sufyan Ilyas! Let's explore your favorite numbers:\n",
      "\n"
     ]
    }
   ],
   "source": [
    "name=input(\"enter your name : \")\n",
    "firstNo= int(input(\"Enter your first favorite number: \"))\n",
    "secondNo = int(input(\"Enter your Second favorite number :\"))\n",
    "thirdNo = int(input(\"Enter your third favorite number: \"))\n",
    "listOfnumbers=[firstNo,secondNo,thirdNo]\n",
    "print(f\"Hello, {name}! Let's explore your favorite numbers:\\n\")\n",
    "\n",
    "        \n",
    "\n",
    "\n"
   ]
  },
  {
   "cell_type": "code",
   "execution_count": 29,
   "metadata": {},
   "outputs": [
    {
     "name": "stdout",
     "output_type": "stream",
     "text": [
      "The number of 12 is even\n",
      "The number of 4 is even\n",
      "The number of 1 is odd\n"
     ]
    }
   ],
   "source": [
    "evenoddlist=[]\n",
    "for x in listOfnumbers:\n",
    "    if x%2==0:\n",
    "        evenoddlist.append((x,\"even\"))\n",
    "        print(f\"The number of {x} is even\")\n",
    "        \n",
    "    else:\n",
    "        evenoddlist.append((x,\"odd\"))\n",
    "        print(f\"The number of {x} is odd\")\n",
    "        \n",
    "\n",
    "\n"
   ]
  },
  {
   "cell_type": "code",
   "execution_count": 30,
   "metadata": {},
   "outputs": [
    {
     "name": "stdout",
     "output_type": "stream",
     "text": [
      "The number 12 and it square:(12,144)\n",
      "The number 4 and it square:(4,16)\n",
      "The number 1 and it square:(1,1)\n"
     ]
    }
   ],
   "source": [
    "sumOfNumbers =int(0)\n",
    "for x in listOfnumbers:\n",
    "    print(f\"The number {x} and it square:({x},{x*x})\")\n",
    "    sumOfNumbers+=x"
   ]
  },
  {
   "cell_type": "code",
   "execution_count": 31,
   "metadata": {},
   "outputs": [
    {
     "name": "stdout",
     "output_type": "stream",
     "text": [
      "Amazing! The sum of your favorite number is: 17\n",
      "WoW, 17 is  a prime number!\n"
     ]
    }
   ],
   "source": [
    "import math\n",
    "print(f\"Amazing! The sum of your favorite number is: {sumOfNumbers}\")\n",
    "n=int(2)\n",
    "count=int(0)\n",
    "while(n<math.sqrt(sumOfNumbers)):\n",
    "\n",
    "    if sumOfNumbers%n==0:\n",
    "      count+=1\n",
    "    n+=1\n",
    "\n",
    "\n",
    "\n",
    "if count!=0:\n",
    "    print(f\"WoW, {sumOfNumbers} is not a prime number!\")\n",
    "else:\n",
    "    print(f\"WoW, {sumOfNumbers} is  a prime number!\")\n",
    "\n"
   ]
  }
 ],
 "metadata": {
  "kernelspec": {
   "display_name": "Python 3",
   "language": "python",
   "name": "python3"
  },
  "language_info": {
   "codemirror_mode": {
    "name": "ipython",
    "version": 3
   },
   "file_extension": ".py",
   "mimetype": "text/x-python",
   "name": "python",
   "nbconvert_exporter": "python",
   "pygments_lexer": "ipython3",
   "version": "3.12.7"
  }
 },
 "nbformat": 4,
 "nbformat_minor": 2
}
