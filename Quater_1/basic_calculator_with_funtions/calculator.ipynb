{
 "cells": [
  {
   "cell_type": "code",
   "execution_count": 7,
   "metadata": {},
   "outputs": [],
   "source": [
    "def add1(n1 :int ,n2: int) ->int:\n",
    "    return n1+n2"
   ]
  },
  {
   "cell_type": "code",
   "execution_count": 8,
   "metadata": {},
   "outputs": [],
   "source": [
    "def sub1(n1 :int ,n2: int) ->int:\n",
    "    return n1-n2"
   ]
  },
  {
   "cell_type": "code",
   "execution_count": 9,
   "metadata": {},
   "outputs": [],
   "source": [
    "def mul1(n1 :int ,n2: int) ->int:\n",
    "    return n1*n2"
   ]
  },
  {
   "cell_type": "code",
   "execution_count": 10,
   "metadata": {},
   "outputs": [],
   "source": [
    "def div1(n1 :int ,n2: int) ->int:\n",
    "    return n1/n2"
   ]
  },
  {
   "cell_type": "code",
   "execution_count": 16,
   "metadata": {},
   "outputs": [
    {
     "name": "stdout",
     "output_type": "stream",
     "text": [
      "mul of 66 & 88 is 5808\n"
     ]
    }
   ],
   "source": [
    "n1=int(input(\"enter 1st number:\"))\n",
    "n2=int(input(\"enter 2nd number:\"))\n",
    "op=input(\"enter +,-,*,/\")\n",
    "#print(sub1(n1,n2))\n",
    "\n",
    "if op=='+':\n",
    "    print(f\"sum of {n1} & {n2} is {add1(n1,n2)}\" )\n",
    "elif op =='-':\n",
    "    print(f\"sub of {n1} & {n2} is {sub1(n1,n2)}\" )\n",
    "elif op =='*' :\n",
    "    print(f\"mul of {n1} & {n2} is {mul1(n1,n2)}\" )\n",
    "elif op =='/' :\n",
    "    print(f\"mul of {n1} & {n2} is {div1(n1,n2)}\" )\n",
    "else:\n",
    "    print(\"you are entering wrong number\")"
   ]
  }
 ],
 "metadata": {
  "kernelspec": {
   "display_name": "Python 3",
   "language": "python",
   "name": "python3"
  },
  "language_info": {
   "codemirror_mode": {
    "name": "ipython",
    "version": 3
   },
   "file_extension": ".py",
   "mimetype": "text/x-python",
   "name": "python",
   "nbconvert_exporter": "python",
   "pygments_lexer": "ipython3",
   "version": "3.12.7"
  }
 },
 "nbformat": 4,
 "nbformat_minor": 2
}
