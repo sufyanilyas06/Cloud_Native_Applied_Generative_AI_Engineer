{
 "cells": [
  {
   "cell_type": "code",
   "execution_count": 7,
   "metadata": {},
   "outputs": [],
   "source": [
    "def add1(n1 :int ,n2: int) ->int:\n",
    "    return n1+n2"
   ]
  },
  {
   "cell_type": "code",
   "execution_count": 8,
   "metadata": {},
   "outputs": [],
   "source": [
    "def sub1(n1 :int ,n2: int) ->int:\n",
    "    return n1-n2"
   ]
  },
  {
   "cell_type": "code",
   "execution_count": 9,
   "metadata": {},
   "outputs": [],
   "source": [
    "def mul1(n1 :int ,n2: int) ->int:\n",
    "    return n1*n2"
   ]
  },
  {
   "cell_type": "code",
   "execution_count": 10,
   "metadata": {},
   "outputs": [],
   "source": [
    "def div1(n1 :int ,n2: int) ->int:\n",
    "    return n1/n2"
   ]
  },
  {
   "cell_type": "code",
   "execution_count": 19,
   "metadata": {},
   "outputs": [],
   "source": [
    "def selection_op(n1 :int,n2 : int):\n",
    "    \n",
    "    op=input(\"enter +,-,*,/\")\n",
    "    #print(sub1(n1,n2))\n",
    "\n",
    "    if op=='+':\n",
    "        print(f\"sum of {n1} & {n2} is {add1(n1,n2)}\" )\n",
    "    elif op =='-':\n",
    "        print(f\"sub of {n1} & {n2} is {sub1(n1,n2)}\" )\n",
    "    elif op =='*' :\n",
    "        print(f\"mul of {n1} & {n2} is {mul1(n1,n2)}\" )\n",
    "    elif op =='/' :\n",
    "        print(f\"mul of {n1} & {n2} is {div1(n1,n2)}\" )\n",
    "    else:\n",
    "        print(\"you are entering wrong number\")\n",
    "        selection_op()"
   ]
  },
  {
   "cell_type": "code",
   "execution_count": 22,
   "metadata": {},
   "outputs": [],
   "source": [
    "def calculator():\n",
    "    n1=int(input(\"enter 1st number:\"))\n",
    "    n2=int(input(\"enter 2nd number:\"))\n",
    "    selection_op(n1,n2)"
   ]
  },
  {
   "cell_type": "code",
   "execution_count": null,
   "metadata": {},
   "outputs": [
    {
     "name": "stdout",
     "output_type": "stream",
     "text": [
      "mul of 12 & 13 is 156\n"
     ]
    }
   ],
   "source": [
    "calculator()\n",
    "while True :\n",
    "   check =input(\"Do you want to continue:\\n press \\\"no\\\" to exit OR any other this to continue\")\n",
    "   if  check.lower()==\"no\":\n",
    "        break \n",
    "   calculator()"
   ]
  }
 ],
 "metadata": {
  "kernelspec": {
   "display_name": "Python 3",
   "language": "python",
   "name": "python3"
  },
  "language_info": {
   "codemirror_mode": {
    "name": "ipython",
    "version": 3
   },
   "file_extension": ".py",
   "mimetype": "text/x-python",
   "name": "python",
   "nbconvert_exporter": "python",
   "pygments_lexer": "ipython3",
   "version": "3.12.7"
  }
 },
 "nbformat": 4,
 "nbformat_minor": 2
}
