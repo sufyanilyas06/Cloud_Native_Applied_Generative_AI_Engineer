{
  "nbformat": 4,
  "nbformat_minor": 0,
  "metadata": {
    "colab": {
      "provenance": []
    },
    "kernelspec": {
      "name": "python3",
      "display_name": "Python 3"
    },
    "language_info": {
      "name": "python"
    }
  },
  "cells": [
    {
      "cell_type": "code",
      "source": [
        "!pip install langchain langchain-google-genai --quiet"
      ],
      "metadata": {
        "id": "FaRqiA65gdlD"
      },
      "execution_count": null,
      "outputs": []
    },
    {
      "cell_type": "code",
      "source": [
        "import langchain_google_genai as genai"
      ],
      "metadata": {
        "id": "vuGiUlX9gmAy"
      },
      "execution_count": null,
      "outputs": []
    },
    {
      "cell_type": "code",
      "source": [
        "from langchain_google_genai import ChatGoogleGenerativeAI\n",
        "from langchain.prompts import PromptTemplate\n",
        "from langchain.chains import LLMChain\n",
        "from google.colab import userdata"
      ],
      "metadata": {
        "id": "i6CtLmHsgncL"
      },
      "execution_count": null,
      "outputs": []
    },
    {
      "cell_type": "code",
      "source": [
        "from google.colab import userdata\n",
        "GOOGLE_API_KEY=userdata.get('GOOGLE_API_KEY_1')\n",
        "if(GOOGLE_API_KEY):\n",
        "  print(\"API Key found\")\n",
        "else:\n",
        "  print(\"API Key not found\")"
      ],
      "metadata": {
        "colab": {
          "base_uri": "https://localhost:8080/"
        },
        "id": "cro8wz5Igtkk",
        "outputId": "1702cf14-8c93-4f57-d552-a8548338b5d8"
      },
      "execution_count": null,
      "outputs": [
        {
          "output_type": "stream",
          "name": "stdout",
          "text": [
            "API Key found\n"
          ]
        }
      ]
    },
    {
      "cell_type": "code",
      "source": [
        "model: ChatGoogleGenerativeAI=ChatGoogleGenerativeAI(\n",
        "    model=\"gemini-1.5-flash\",\n",
        "    api_key=GOOGLE_API_KEY,\n",
        ")"
      ],
      "metadata": {
        "id": "2qC1PYSkhLHp"
      },
      "execution_count": null,
      "outputs": []
    },
    {
      "cell_type": "markdown",
      "source": [],
      "metadata": {
        "id": "xXh8E-xr0opL"
      }
    },
    {
      "cell_type": "code",
      "source": [
        "prompt_template = PromptTemplate(\n",
        "    input_variables=[\"question\"],\n",
        "    template=\"Answer the following question concisely: {question}\"\n",
        ")"
      ],
      "metadata": {
        "id": "d4MeapjihRVG"
      },
      "execution_count": null,
      "outputs": []
    },
    {
      "cell_type": "code",
      "source": [
        "chain = LLMChain(\n",
        "    llm=model,\n",
        "    prompt=prompt_template\n",
        ")"
      ],
      "metadata": {
        "colab": {
          "base_uri": "https://localhost:8080/"
        },
        "id": "nTZGn7tMhTgs",
        "outputId": "a4e4ba27-1ef7-4f2b-bc0d-2829e569c36f"
      },
      "execution_count": null,
      "outputs": [
        {
          "output_type": "stream",
          "name": "stderr",
          "text": [
            "<ipython-input-22-e72a1cd968d9>:1: LangChainDeprecationWarning: The class `LLMChain` was deprecated in LangChain 0.1.17 and will be removed in 1.0. Use :meth:`~RunnableSequence, e.g., `prompt | llm`` instead.\n",
            "  chain = LLMChain(\n"
          ]
        }
      ]
    },
    {
      "cell_type": "code",
      "source": [
        "questions = [\n",
        "    \"What is the largest planet in our solar system?\",\n",
        "    \"Who painted the Mona Lisa?\",\n",
        "    \"What is the chemical symbol for gold?\",\n",
        "    \"Which element has the atomic number 1?\",\n",
        "    \"Who discovered gravity?\",\n",
        "    \"What year did the Titanic sink?\",\n",
        "    \"What is the square root of 144?\",\n",
        "    \"Which country is known as the Land of the Rising Sun?\",\n",
        "    \"Who invented the telephone?\",\n",
        "    \"What is the longest river in the world?\"\n",
        "]\n",
        "\n",
        "\n",
        "responses = []\n",
        "\n",
        "for question in questions:\n",
        "    response = chain.run({\"question\": question})\n",
        "    responses.append(response)\n"
      ],
      "metadata": {
        "id": "JhablTwqhkNK"
      },
      "execution_count": null,
      "outputs": []
    },
    {
      "cell_type": "code",
      "source": [
        "for i, response in enumerate(responses, 1):\n",
        "    print(f\"Question {i}: {questions[i-1]}\")\n",
        "    print(f\"Response: {response}\\n\")\n",
        "    model.temperature = 0.7\n",
        "model.top_p = 0.9"
      ],
      "metadata": {
        "colab": {
          "base_uri": "https://localhost:8080/"
        },
        "id": "7J2gh1ZGhtsJ",
        "outputId": "9962e760-1238-4e8e-d067-e1c0e60230a4"
      },
      "execution_count": null,
      "outputs": [
        {
          "output_type": "stream",
          "name": "stdout",
          "text": [
            "Question 1: What is the largest planet in our solar system?\n",
            "Response: Jupiter\n",
            "\n",
            "\n",
            "Question 2: Who painted the Mona Lisa?\n",
            "Response: Leonardo da Vinci\n",
            "\n",
            "\n",
            "Question 3: What is the chemical symbol for gold?\n",
            "Response: Au\n",
            "\n",
            "\n",
            "Question 4: Which element has the atomic number 1?\n",
            "Response: Hydrogen\n",
            "\n",
            "\n",
            "Question 5: Who discovered gravity?\n",
            "Response: Isaac Newton\n",
            "\n",
            "\n",
            "Question 6: What year did the Titanic sink?\n",
            "Response: 1912\n",
            "\n",
            "\n",
            "Question 7: What is the square root of 144?\n",
            "Response: 12\n",
            "\n",
            "\n",
            "Question 8: Which country is known as the Land of the Rising Sun?\n",
            "Response: Japan\n",
            "\n",
            "\n",
            "Question 9: Who invented the telephone?\n",
            "Response: Alexander Graham Bell\n",
            "\n",
            "\n",
            "Question 10: What is the longest river in the world?\n",
            "Response: The Nile River.\n",
            "\n",
            "\n"
          ]
        }
      ]
    },
    {
      "cell_type": "code",
      "source": [
        "creative_prompt_template = PromptTemplate(\n",
        "    input_variables=[\"question\"],\n",
        "    template=\"Be creative and elaborate while answering: {question}\"\n",
        ")\n",
        "\n",
        "creative_chain = LLMChain(\n",
        "    llm=model,\n",
        "    prompt=creative_prompt_template\n",
        ")\n"
      ],
      "metadata": {
        "id": "kSVO4JaShwJ8"
      },
      "execution_count": null,
      "outputs": []
    },
    {
      "cell_type": "code",
      "source": [
        "creative_response = creative_chain.run({\"question\": \"Explain the concept of life.\"})\n",
        "print(\"Creative Response:\\n\", creative_response)"
      ],
      "metadata": {
        "colab": {
          "base_uri": "https://localhost:8080/"
        },
        "id": "hcVpoUDmh2xo",
        "outputId": "437dac37-85f5-4b98-89f6-9e443798f557"
      },
      "execution_count": null,
      "outputs": [
        {
          "output_type": "stream",
          "name": "stdout",
          "text": [
            "Creative Response:\n",
            " The concept of life, ah, that's a question that has haunted philosophers, scientists, and poets for millennia.  It's not a simple definition, but rather a shimmering, multifaceted jewel reflecting light from countless angles.  We can't pin it down with a single, crisp sentence, but rather, we must approach it as a tapestry woven from threads of complexity.\n",
            "\n",
            "One could argue that life is a self-sustaining chemical reaction, a complex dance of molecules tirelessly striving to maintain their precarious equilibrium against the relentless tide of entropy.  It's a defiance of chaos, a stubborn insistence on order, a rebellion against the inevitable heat death of the universe.  Each cell, a miniature city bustling with activity, exchanging information, building structures, repairing damage, all in the pursuit of a single, overarching goal: continuation.\n",
            "\n",
            "But it's more than just chemistry. Life pulses with information.  DNA, the blueprint of existence, is a language written in the elegant simplicity of four letters, yet capable of encoding the staggering diversity of life on Earth.  This information is not static; it's dynamic, ever-evolving, adapting, responding to the environment in a never-ending feedback loop.  It's a story constantly being rewritten, a narrative played out across generations, across eons.\n",
            "\n",
            "And then there's the subjective experience.  Consciousness, that elusive phantom, adds another layer to the enigma.  What does it *feel* like to be alive?  To perceive the world, to experience joy and sorrow, to taste the sweetness of a ripe peach or the bitterness of loss?  This subjective element is intangible, yet undeniably real, a fundamental aspect of the human experience, and perhaps of life itself, if we consider the possibility of sentience in other organisms.\n",
            "\n",
            "Life is also a process of becoming. It's not a static state, but a continuous journey of growth, change, and adaptation. From the sprouting of a seed to the aging of a star, life is a dynamic force, a relentless drive towards complexity and diversification.  It's a constant exploration of possibilities, a relentless experimentation with form and function.\n",
            "\n",
            "Ultimately, the concept of life resists a definitive explanation. It's a mystery that continues to unfold, a question that perpetually renews itself with each new discovery, each new perspective. It's a breathtakingly beautiful and terrifyingly fragile phenomenon, a fleeting moment of order in a vast, indifferent universe. And perhaps, that very uncertainty, that very mystery, is what makes it so profoundly captivating.\n",
            "\n"
          ]
        }
      ]
    }
  ]
}