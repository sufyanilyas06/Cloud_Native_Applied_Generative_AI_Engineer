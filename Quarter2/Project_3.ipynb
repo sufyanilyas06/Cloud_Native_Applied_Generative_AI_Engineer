{
  "nbformat": 4,
  "nbformat_minor": 0,
  "metadata": {
    "colab": {
      "provenance": []
    },
    "kernelspec": {
      "name": "python3",
      "display_name": "Python 3"
    },
    "language_info": {
      "name": "python"
    }
  },
  "cells": [
    {
      "cell_type": "code",
      "execution_count": 4,
      "metadata": {
        "id": "E7O0YoIJQ6RR"
      },
      "outputs": [],
      "source": [
        "# Install necessary Packages\n",
        "!pip install -Uq langchain-google-genai"
      ]
    },
    {
      "cell_type": "code",
      "source": [
        "# Setup API Key\n",
        "from google.colab import userdata\n",
        "GEMINI_API_KEY_1 = userdata.get('Gemini_API_Key')"
      ],
      "metadata": {
        "id": "vcHQnezrRVCu"
      },
      "execution_count": 7,
      "outputs": []
    },
    {
      "cell_type": "code",
      "source": [
        "# Select and configure Model\n",
        "from langchain_google_genai import ChatGoogleGenerativeAI\n",
        "\n",
        "llm = ChatGoogleGenerativeAI(\n",
        "    model=\"gemini-1.5-flash\",\n",
        "    api_key = userdata.get('Gemini_API_Key')\n",
        ")"
      ],
      "metadata": {
        "id": "mk-vrNlzRey4"
      },
      "execution_count": 10,
      "outputs": []
    },
    {
      "cell_type": "code",
      "source": [
        "# test if the model is configured correctly\n",
        "llm.invoke(\"Hello World\")"
      ],
      "metadata": {
        "colab": {
          "base_uri": "https://localhost:8080/"
        },
        "id": "pcLKKwEiRkE6",
        "outputId": "f82239b2-e7d7-4e94-fecd-497689f524a3"
      },
      "execution_count": 12,
      "outputs": [
        {
          "output_type": "execute_result",
          "data": {
            "text/plain": [
              "AIMessage(content='Hello World!', additional_kwargs={}, response_metadata={'prompt_feedback': {'block_reason': 0, 'safety_ratings': []}, 'finish_reason': 'STOP', 'safety_ratings': []}, id='run-66b8530b-90fd-4011-afef-403c23aaace6-0', usage_metadata={'input_tokens': 3, 'output_tokens': 4, 'total_tokens': 7, 'input_token_details': {'cache_read': 0}})"
            ]
          },
          "metadata": {},
          "execution_count": 12
        }
      ]
    },
    {
      "cell_type": "code",
      "source": [
        "from langchain_core.tools import tool\n",
        "from nltk.sentiment.vader import SentimentIntensityAnalyzer\n",
        "\n",
        "def analyze_sentiment(text: str) -> str:\n",
        "\n",
        "    # Initialize the VADER sentiment analyzer\n",
        "    sid = SentimentIntensityAnalyzer()\n",
        "\n",
        "    # Get the sentiment scores\n",
        "    sentiment_score = sid.polarity_scores(text)\n",
        "\n",
        "    # Classify sentiment based on the compound score\n",
        "    if sentiment_score['compound'] >= 0.05:\n",
        "        return \"Positive\"\n",
        "    elif sentiment_score['compound'] <= -0.05:\n",
        "        return \"Negative\"\n",
        "    else:\n",
        "        return \"Neutral\"\n",
        "\n",
        "tools = [analyze_sentiment]\n",
        "\n"
      ],
      "metadata": {
        "id": "Ew8kbWNDR3E9"
      },
      "execution_count": 13,
      "outputs": []
    },
    {
      "cell_type": "code",
      "source": [
        "llm_with_tools = llm.bind_tools(tools)"
      ],
      "metadata": {
        "id": "aCFGbZvCS-BD"
      },
      "execution_count": 14,
      "outputs": []
    },
    {
      "cell_type": "code",
      "source": [
        "from IPython.display import display\n",
        "\n",
        "\n",
        "text_input = \"Coding becomes easier when you start think logically\"\n",
        "\n",
        "ai_msg = llm.invoke(f\"Analyze the sentence:\\n{text_input}\")\n",
        "display(ai_msg)"
      ],
      "metadata": {
        "colab": {
          "base_uri": "https://localhost:8080/",
          "height": 277
        },
        "id": "X3bx3FlIR98R",
        "outputId": "72d018ae-03ee-4d23-fe91-bab6914bd5ff"
      },
      "execution_count": 24,
      "outputs": [
        {
          "output_type": "display_data",
          "data": {
            "text/plain": [
              "AIMessage(content='The sentence \"Coding becomes easier when you start think logically\" contains a grammatical error and a subtle semantic issue.\\n\\n* **Grammatical Error:** The verb \"think\" should be \"thinking.\"  The sentence should read: \"Coding becomes easier when you start *thinking* logically.\"  This is because \"start\" requires a gerund (verb ending in -ing) to function correctly as part of this kind of phrase.\\n\\n* **Semantic Issue:** While the sentence conveys a generally true idea – that logical thinking improves coding ability – the phrasing implies a sudden, almost magical shift.  It suggests that the moment one begins thinking logically, coding instantly becomes easier.  In reality, the improvement is gradual and requires practice and application of logical thinking to coding problems.  A more nuanced sentence might be: \"Coding becomes easier with the development of logical thinking skills.\"  or \"The more logically you think, the easier coding becomes.\"\\n\\n\\nIn short, the sentence needs grammatical correction and its meaning could be improved for greater accuracy and clarity.', additional_kwargs={}, response_metadata={'prompt_feedback': {'block_reason': 0, 'safety_ratings': []}, 'finish_reason': 'STOP', 'safety_ratings': []}, id='run-9cc0fe55-047f-4834-b4df-529725a13cce-0', usage_metadata={'input_tokens': 14, 'output_tokens': 210, 'total_tokens': 224, 'input_token_details': {'cache_read': 0}})"
            ]
          },
          "metadata": {}
        }
      ]
    },
    {
      "cell_type": "code",
      "source": [
        "from langchain_core.messages import HumanMessage, AIMessage\n",
        "query = f\"Analyze the sentiment in the sentence:\\n{text_input}\"\n",
        "messages = [HumanMessage(query)]\n",
        "display(messages)"
      ],
      "metadata": {
        "colab": {
          "base_uri": "https://localhost:8080/",
          "height": 52
        },
        "id": "I3lsYgVBTs6A",
        "outputId": "331a968a-fe7f-407b-bac4-42ae09889ab5"
      },
      "execution_count": 25,
      "outputs": [
        {
          "output_type": "display_data",
          "data": {
            "text/plain": [
              "[HumanMessage(content='Analyze the sentiment in the sentence:\\nCoding becomes easier when you start think logically', additional_kwargs={}, response_metadata={})]"
            ]
          },
          "metadata": {}
        }
      ]
    },
    {
      "cell_type": "code",
      "source": [
        "ai_msg_tools = llm_with_tools.invoke(messages)\n",
        "messages.append(ai_msg_tools)\n",
        "display(messages)"
      ],
      "metadata": {
        "colab": {
          "base_uri": "https://localhost:8080/",
          "height": 173
        },
        "id": "mxai0eBvUj35",
        "outputId": "5e05a1ea-c608-4b33-d6fd-1e1a1c3583e1"
      },
      "execution_count": 26,
      "outputs": [
        {
          "output_type": "display_data",
          "data": {
            "text/plain": [
              "[HumanMessage(content='Analyze the sentiment in the sentence:\\nCoding becomes easier when you start think logically', additional_kwargs={}, response_metadata={}),\n",
              " AIMessage(content='', additional_kwargs={'function_call': {'name': 'analyze_sentiment', 'arguments': '{\"text\": \"Coding becomes easier when you start think logically\"}'}}, response_metadata={'prompt_feedback': {'block_reason': 0, 'safety_ratings': []}, 'finish_reason': 'STOP', 'safety_ratings': []}, id='run-673658b1-7df5-4671-b186-12c2a7bbea82-0', tool_calls=[{'name': 'analyze_sentiment', 'args': {'text': 'Coding becomes easier when you start think logically'}, 'id': '0d12b5d2-9267-4225-89ce-3fab8f013d4d', 'type': 'tool_call'}], usage_metadata={'input_tokens': 49, 'output_tokens': 12, 'total_tokens': 61, 'input_token_details': {'cache_read': 0}})]"
            ]
          },
          "metadata": {}
        }
      ]
    },
    {
      "cell_type": "code",
      "source": [
        "display(ai_msg_tools)"
      ],
      "metadata": {
        "colab": {
          "base_uri": "https://localhost:8080/",
          "height": 139
        },
        "id": "QmpfgD64UqtM",
        "outputId": "538396c6-7b19-4b5e-9ebd-fe1ff1ada140"
      },
      "execution_count": 27,
      "outputs": [
        {
          "output_type": "display_data",
          "data": {
            "text/plain": [
              "AIMessage(content='', additional_kwargs={'function_call': {'name': 'analyze_sentiment', 'arguments': '{\"text\": \"Coding becomes easier when you start think logically\"}'}}, response_metadata={'prompt_feedback': {'block_reason': 0, 'safety_ratings': []}, 'finish_reason': 'STOP', 'safety_ratings': []}, id='run-673658b1-7df5-4671-b186-12c2a7bbea82-0', tool_calls=[{'name': 'analyze_sentiment', 'args': {'text': 'Coding becomes easier when you start think logically'}, 'id': '0d12b5d2-9267-4225-89ce-3fab8f013d4d', 'type': 'tool_call'}], usage_metadata={'input_tokens': 49, 'output_tokens': 12, 'total_tokens': 61, 'input_token_details': {'cache_read': 0}})"
            ]
          },
          "metadata": {}
        }
      ]
    },
    {
      "cell_type": "code",
      "source": [
        "print(ai_msg_tools.tool_calls)"
      ],
      "metadata": {
        "colab": {
          "base_uri": "https://localhost:8080/"
        },
        "id": "tG0-D2NIU1A0",
        "outputId": "98661535-53be-4043-e3b4-bbf7e4c93e2b"
      },
      "execution_count": 28,
      "outputs": [
        {
          "output_type": "stream",
          "name": "stdout",
          "text": [
            "[{'name': 'analyze_sentiment', 'args': {'text': 'Coding becomes easier when you start think logically'}, 'id': '0d12b5d2-9267-4225-89ce-3fab8f013d4d', 'type': 'tool_call'}]\n"
          ]
        }
      ]
    },
    {
      "cell_type": "code",
      "source": [
        "import nltk\n",
        "\n",
        "# Download the VADER lexicon\n",
        "nltk.download('vader_lexicon')\n",
        "tool_call = {\n",
        "    \"name\": \"analyze_sentiment\",  # Function name to be called\n",
        "    \"text\" : text_input\n",
        "}\n",
        "selected_tool = {\n",
        "    \"analyze_sentiment\": analyze_sentiment,\n",
        "}\n",
        "\n",
        "# Get the function based on the tool call name (ensure it's converted to lowercase)\n",
        "function_to_call = selected_tool.get(tool_call[\"name\"].lower())\n",
        "if function_to_call:\n",
        "    tool_msg = function_to_call(tool_call[\"text\"])\n",
        "   # display(tool_msg)\n",
        "    messages.append(tool_msg)\n",
        "else:\n",
        "    print(\"Tool not found.\")"
      ],
      "metadata": {
        "colab": {
          "base_uri": "https://localhost:8080/"
        },
        "id": "PU8QoNEzU5Wk",
        "outputId": "2e4de392-0385-469b-ab1b-d12d3ede59f3"
      },
      "execution_count": 30,
      "outputs": [
        {
          "output_type": "stream",
          "name": "stderr",
          "text": [
            "[nltk_data] Downloading package vader_lexicon to /root/nltk_data...\n",
            "[nltk_data]   Package vader_lexicon is already up-to-date!\n"
          ]
        }
      ]
    },
    {
      "cell_type": "code",
      "source": [
        "display(messages)"
      ],
      "metadata": {
        "colab": {
          "base_uri": "https://localhost:8080/",
          "height": 208
        },
        "id": "F4pqiglgVfjg",
        "outputId": "ef30fa6b-6920-4a3a-c879-67aa70991303"
      },
      "execution_count": 31,
      "outputs": [
        {
          "output_type": "display_data",
          "data": {
            "text/plain": [
              "[HumanMessage(content='Analyze the sentiment in the sentence:\\nCoding becomes easier when you start think logically', additional_kwargs={}, response_metadata={}),\n",
              " AIMessage(content='', additional_kwargs={'function_call': {'name': 'analyze_sentiment', 'arguments': '{\"text\": \"Coding becomes easier when you start think logically\"}'}}, response_metadata={'prompt_feedback': {'block_reason': 0, 'safety_ratings': []}, 'finish_reason': 'STOP', 'safety_ratings': []}, id='run-673658b1-7df5-4671-b186-12c2a7bbea82-0', tool_calls=[{'name': 'analyze_sentiment', 'args': {'text': 'Coding becomes easier when you start think logically'}, 'id': '0d12b5d2-9267-4225-89ce-3fab8f013d4d', 'type': 'tool_call'}], usage_metadata={'input_tokens': 49, 'output_tokens': 12, 'total_tokens': 61, 'input_token_details': {'cache_read': 0}}),\n",
              " 'Positive',\n",
              " 'Positive']"
            ]
          },
          "metadata": {}
        }
      ]
    },
    {
      "cell_type": "code",
      "source": [
        "response = llm_with_tools.invoke(messages)"
      ],
      "metadata": {
        "id": "EYresZXFWsGF"
      },
      "execution_count": 32,
      "outputs": []
    },
    {
      "cell_type": "code",
      "source": [
        "from IPython.display import Markdown\n",
        "Markdown(response.content)\n",
        "display(tool_msg)"
      ],
      "metadata": {
        "colab": {
          "base_uri": "https://localhost:8080/",
          "height": 35
        },
        "id": "XJNsS_M6Wve5",
        "outputId": "08a367bc-6458-4461-8a44-176845a92ed2"
      },
      "execution_count": 33,
      "outputs": [
        {
          "output_type": "display_data",
          "data": {
            "text/plain": [
              "'Positive'"
            ],
            "application/vnd.google.colaboratory.intrinsic+json": {
              "type": "string"
            }
          },
          "metadata": {}
        }
      ]
    },
    {
      "cell_type": "code",
      "source": [],
      "metadata": {
        "id": "L6IHhGMmWznZ"
      },
      "execution_count": null,
      "outputs": []
    }
  ]
}